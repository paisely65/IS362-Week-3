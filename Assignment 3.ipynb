{
 "cells": [
  {
   "cell_type": "markdown",
   "metadata": {},
   "source": [
    "# Assignment 3\n",
    "\n",
    "Suppose you have ridden a bicycle from New York City to Key West, Florida.  Your bicycle odometer shows the total miles, which you have dutifully logged at the end of each day with paper and pencil.  Your first two entries might be 55 and 120, indicating that you rode your bike 55 miles on day 1 and 65 miles on day 2.  Your task is to create a pandas Series object that holds the cumulative miles at the end of each day, then use your Python skills to show the total miles that you rode each day.  Consider how you should best present this information in a Jupyter notebook.  You should save your Jupyter Notebook to your GitHub repository, and provide a link in your assignment submission.Your week 3 assignment is due at the end of day on 2/19.  You may work in a small group on this project."
   ]
  },
  {
   "cell_type": "code",
   "execution_count": 58,
   "metadata": {
    "collapsed": true
   },
   "outputs": [],
   "source": [
    "import pandas as pd\n",
    "import random"
   ]
  },
  {
   "cell_type": "code",
   "execution_count": 63,
   "metadata": {
    "collapsed": true
   },
   "outputs": [],
   "source": [
    "# Our \"paper and pencil\" odometer entries can be quickly turned into a dictionary object\n",
    "\n",
    "odometer_readings = {}\n",
    "odometer_readings['Day 1'] = 55\n",
    "odometer_readings['Day 2'] = 120\n",
    "odometer_readings['Day 3'] = 153\n",
    "odometer_readings['Day 4'] = 208\n",
    "odometer_readings['Day 5'] = 267\n",
    "odometer_readings['Day 6'] = 302\n",
    "odometer_readings['Day 7'] = 350\n",
    "odometer_readings['Day 8'] = 401"
   ]
  },
  {
   "cell_type": "code",
   "execution_count": 64,
   "metadata": {
    "collapsed": false
   },
   "outputs": [
    {
     "data": {
      "text/plain": [
       "dict"
      ]
     },
     "execution_count": 64,
     "metadata": {},
     "output_type": "execute_result"
    }
   ],
   "source": [
    "# We see that odometer_readings is a dict type and not a pandas Series\n",
    "type(odometer_readings)"
   ]
  },
  {
   "cell_type": "code",
   "execution_count": 65,
   "metadata": {
    "collapsed": false
   },
   "outputs": [
    {
     "name": "stdout",
     "output_type": "stream",
     "text": [
      "<class 'pandas.core.series.Series'>\n"
     ]
    },
    {
     "data": {
      "text/plain": [
       "Day 1     55\n",
       "Day 2    120\n",
       "Day 3    153\n",
       "Day 4    208\n",
       "Day 5    267\n",
       "Day 6    302\n",
       "Day 7    350\n",
       "Day 8    401\n",
       "dtype: int64"
      ]
     },
     "execution_count": 65,
     "metadata": {},
     "output_type": "execute_result"
    }
   ],
   "source": [
    "# Convert odometer readings from a list to a pandas Series object\n",
    "odometer_readings = pd.Series(odometer_readings)\n",
    "\n",
    "# Check that it is the correct data type -- and we see it is a series\n",
    "print (type(odometer_readings))\n",
    "\n",
    "# Check out the data stored in the Series object\n",
    "odometer_readings"
   ]
  },
  {
   "cell_type": "code",
   "execution_count": 66,
   "metadata": {
    "collapsed": false
   },
   "outputs": [
    {
     "name": "stdout",
     "output_type": "stream",
     "text": [
      "Day 1: 55 miles\n",
      "Day 2: 65 miles\n",
      "Day 3: 33 miles\n",
      "Day 4: 55 miles\n",
      "Day 5: 59 miles\n",
      "Day 6: 35 miles\n",
      "Day 7: 48 miles\n",
      "Day 8: 51 miles\n"
     ]
    }
   ],
   "source": [
    "miles_traveled_per_day = {} # we will calculate and store the number of miles traveled each day\n",
    "yesterdays_odom_reading = 0 # needed for our loop below, start at zero\n",
    "\n",
    "for day, todays_odom_reading in odometer_readings.items():\n",
    "        \n",
    "    miles_traveled_today = todays_odom_reading - yesterdays_odom_reading\n",
    "\n",
    "    miles_traveled_per_day[day] = miles_traveled_today\n",
    "    \n",
    "    print (day + ': ' + str(miles_traveled_today) + ' miles')\n",
    "    \n",
    "    yesterdays_odom_reading = todays_odom_reading # set todays reading to yesterdays since the loop is over"
   ]
  },
  {
   "cell_type": "code",
   "execution_count": 67,
   "metadata": {
    "collapsed": false
   },
   "outputs": [
    {
     "name": "stdout",
     "output_type": "stream",
     "text": [
      "<class 'dict'>\n"
     ]
    },
    {
     "data": {
      "text/plain": [
       "{'Day 1': 55,\n",
       " 'Day 2': 65,\n",
       " 'Day 3': 33,\n",
       " 'Day 4': 55,\n",
       " 'Day 5': 59,\n",
       " 'Day 6': 35,\n",
       " 'Day 7': 48,\n",
       " 'Day 8': 51}"
      ]
     },
     "execution_count": 67,
     "metadata": {},
     "output_type": "execute_result"
    }
   ],
   "source": [
    "# miles_traveled_per_day is dictionary\n",
    "print (type(miles_traveled_per_day))\n",
    "\n",
    "miles_traveled_per_day"
   ]
  },
  {
   "cell_type": "code",
   "execution_count": 68,
   "metadata": {
    "collapsed": true
   },
   "outputs": [],
   "source": [
    "# Create a Series object to store miles traveled per day\n",
    "miles_traveled_per_day = pd.Series(miles_traveled_per_day)\n",
    "\n",
    "# Miles traveled per day as a series\n",
    "miles_traveled_per_day"
   ]
  },
  {
   "cell_type": "code",
   "execution_count": null,
   "metadata": {
    "collapsed": true
   },
   "outputs": [],
   "source": []
  },
  {
   "cell_type": "code",
   "execution_count": null,
   "metadata": {
    "collapsed": true
   },
   "outputs": [],
   "source": []
  },
  {
   "cell_type": "markdown",
   "metadata": {},
   "source": [
    "### other stuff you can delete"
   ]
  },
  {
   "cell_type": "code",
   "execution_count": 42,
   "metadata": {
    "collapsed": false
   },
   "outputs": [],
   "source": [
    "odometer_readings = [] # we will store odometer readings at the end of each day\n",
    "odometer = 0 # odometer starts at 0 miles on day 1!\n",
    "\n",
    "# Create a random set of increasing odometer readings (let's just assume it takes 8 days to travel to Key West)\n",
    "for i in range(8):\n",
    "    miles_traveled = random.randint(50,100)\n",
    "    odometer = odometer + miles_traveled\n",
    "    \n",
    "    # Add the new odometer reading to the list that holds all the odometer readings\n",
    "    odometer_readings.append(odometer)"
   ]
  }
 ],
 "metadata": {
  "kernelspec": {
   "display_name": "Python [Root]",
   "language": "python",
   "name": "Python [Root]"
  },
  "language_info": {
   "codemirror_mode": {
    "name": "ipython",
    "version": 3
   },
   "file_extension": ".py",
   "mimetype": "text/x-python",
   "name": "python",
   "nbconvert_exporter": "python",
   "pygments_lexer": "ipython3",
   "version": "3.5.2"
  }
 },
 "nbformat": 4,
 "nbformat_minor": 0
}
