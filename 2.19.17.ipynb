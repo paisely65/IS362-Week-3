{
 "cells": [
  {
   "cell_type": "markdown",
   "metadata": {},
   "source": [
    "# Use python code to create a series object to store miles traveled per day"
   ]
  },
  {
   "cell_type": "code",
   "execution_count": 25,
   "metadata": {
    "collapsed": false
   },
   "outputs": [
    {
     "name": "stdout",
     "output_type": "stream",
     "text": [
      "0     55\n",
      "1    138\n",
      "2    229\n",
      "3    321\n",
      "4    386\n",
      "5    449\n",
      "6    512\n",
      "7    591\n",
      "8    660\n",
      "9    742\n",
      "dtype: int64\n",
      "Day 1, Traveled 55 miles.\n",
      "Day 2, Traveled 83 miles.\n",
      "Day 3, Traveled 91 miles.\n",
      "Day 4, Traveled 92 miles.\n",
      "Day 5, Traveled 65 miles.\n",
      "Day 6, Traveled 63 miles.\n",
      "Day 7, Traveled 63 miles.\n",
      "Day 8, Traveled 79 miles.\n",
      "Day 9, Traveled 69 miles.\n",
      "Day 10, Traveled 82 miles.\n"
     ]
    }
   ],
   "source": [
    "import pandas as pd\n",
    "import random\n",
    "\n",
    "odometer_readings = [] # we will store odometer readings at the end of each day\n",
    "odometer = 0 # odometer starts at 0 miles on day 1!\n",
    "\n",
    "# Create a (assume it takes 10 days to travel to Key West\n",
    "for i in range(10):\n",
    "    miles_traveled = random.randint(50,100)\n",
    "    odometer = odometer + miles_traveled\n",
    "    \n",
    "    # Add the new odometer reading to the list that holds all the odometer readings\n",
    "    odometer_readings.append(odometer)\n",
    "\n",
    "# Convert odometer readings from a list to a pandas Series object\n",
    "odometer_readings = pd.Series(odometer_readings)\n",
    "\n",
    "# Check out the data stored in the Series object\n",
    "print (odometer_readings)\n",
    "\n",
    "miles_traveled_per_day = [] # we will calculate and store the number of miles traveled each day\n",
    "yesterdays_odom_reading = 0 # needed for our loop below, start at zero\n",
    "\n",
    "for index, todays_odom_reading in enumerate(odometer_readings):\n",
    "    \n",
    "    miles_traveled_today = todays_odom_reading - yesterdays_odom_reading\n",
    "\n",
    "    miles_traveled_per_day.append(miles_traveled_today)\n",
    "    \n",
    "    print ('Day ' + str(index+1) + ', Traveled ' + str(miles_traveled_today) + ' miles.')\n",
    "    \n",
    "    yesterdays_odom_reading = todays_odom_reading # set todays reading to yesterdays since the loop is over\n",
    "\n",
    "miles_traveled_per_day = pd.Series(miles_traveled_per_day)\n",
    "\n",
    "\n",
    "\n",
    "\n"
   ]
  },
  {
   "cell_type": "code",
   "execution_count": null,
   "metadata": {
    "collapsed": true
   },
   "outputs": [],
   "source": []
  }
 ],
 "metadata": {
  "kernelspec": {
   "display_name": "Python 3",
   "language": "python",
   "name": "python3"
  },
  "language_info": {
   "codemirror_mode": {
    "name": "ipython",
    "version": 3
   },
   "file_extension": ".py",
   "mimetype": "text/x-python",
   "name": "python",
   "nbconvert_exporter": "python",
   "pygments_lexer": "ipython3",
   "version": "3.6.0"
  }
 },
 "nbformat": 4,
 "nbformat_minor": 2
}
